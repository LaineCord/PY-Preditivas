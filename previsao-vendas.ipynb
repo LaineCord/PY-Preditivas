{
 "cells": [
  {
   "cell_type": "code",
   "execution_count": 165,
   "id": "090b1385",
   "metadata": {},
   "outputs": [],
   "source": [
    "import pandas as pd\n",
    "from sklearn.model_selection import train_test_split\n",
    "from sklearn.ensemble import RandomForestRegressor\n",
    "from sklearn.metrics import accuracy_score, mean_squared_error\n",
    "from sklearn.metrics import r2_score\n"
   ]
  },
  {
   "cell_type": "code",
   "execution_count": 166,
   "id": "98104179",
   "metadata": {},
   "outputs": [],
   "source": [
    "# Supondo que 'dados.csv' seja o arquivo que contém suas informações\n",
    "dados =  pd.read_csv('dados/stores-datas-regression.csv', sep = ',')"
   ]
  },
  {
   "cell_type": "code",
   "execution_count": 167,
   "id": "67f45480",
   "metadata": {},
   "outputs": [],
   "source": [
    "features = ['Quantity', 'Unit Price', 'Unit Cost', 'd_Stores.Square Meters']"
   ]
  },
  {
   "cell_type": "code",
   "execution_count": 101,
   "id": "73f60c07",
   "metadata": {},
   "outputs": [],
   "source": []
  },
  {
   "cell_type": "code",
   "execution_count": 168,
   "id": "f35594c2",
   "metadata": {},
   "outputs": [],
   "source": [
    "alvo = 'Net Price'"
   ]
  },
  {
   "cell_type": "code",
   "execution_count": 169,
   "id": "8cc461af",
   "metadata": {},
   "outputs": [],
   "source": [
    "X = dados[features]\n",
    "y = dados[alvo]"
   ]
  },
  {
   "cell_type": "code",
   "execution_count": 170,
   "id": "0eb12009",
   "metadata": {},
   "outputs": [],
   "source": [
    "# Dividindo o conjunto de dados em treino e teste\n",
    "X_train, X_test, y_train, y_test = train_test_split(X, y, test_size=0.2, random_state=42)"
   ]
  },
  {
   "cell_type": "code",
   "execution_count": 171,
   "id": "f975ecde",
   "metadata": {},
   "outputs": [
    {
     "data": {
      "text/plain": [
       "RandomForestRegressor(random_state=42)"
      ]
     },
     "execution_count": 171,
     "metadata": {},
     "output_type": "execute_result"
    }
   ],
   "source": [
    "# Criando e treinando o modelo de regressão\n",
    "modelo = RandomForestRegressor(n_estimators=100, random_state=42)\n",
    "modelo.fit(X_train, y_train)"
   ]
  },
  {
   "cell_type": "code",
   "execution_count": 172,
   "id": "efa9047c",
   "metadata": {},
   "outputs": [],
   "source": [
    "# Fazendo previsões no conjunto de teste\n",
    "previsoes = modelo.predict(X_test)"
   ]
  },
  {
   "cell_type": "code",
   "execution_count": 173,
   "id": "bf6dc36b",
   "metadata": {},
   "outputs": [],
   "source": [
    "# Convertendo para tarefa de classificação (exemplo: categorizando em baixo, médio, alto)\n",
    "categorias_reais = pd.cut(y_test, bins=[y.min(), y.quantile(0.33), y.quantile(0.66), y.max()], labels=['baixo', 'médio', 'alto'])\n",
    "categorias_previstas = pd.cut(previsoes, bins=[y.min(), y.quantile(0.33), y.quantile(0.66), y.max()], labels=['baixo', 'médio', 'alto'])"
   ]
  },
  {
   "cell_type": "code",
   "execution_count": 174,
   "id": "7abbd809",
   "metadata": {},
   "outputs": [
    {
     "name": "stdout",
     "output_type": "stream",
     "text": [
      "Acurácia: 0.9585448392554992\n"
     ]
    }
   ],
   "source": [
    "# Calculando a acurácia\n",
    "acuracia = accuracy_score(categorias_reais, categorias_previstas)\n",
    "print(f'Acurácia: {acuracia}')"
   ]
  },
  {
   "cell_type": "code",
   "execution_count": 179,
   "id": "3b985a6f",
   "metadata": {},
   "outputs": [
    {
     "name": "stdout",
     "output_type": "stream",
     "text": [
      "R²: 0.9940622938434448\n"
     ]
    }
   ],
   "source": [
    "r2 = r2_score(y_test, previsoes)\n",
    "print(f'R²: {r2}')\n",
    "\n",
    "#coeficiente bomde 0.99"
   ]
  },
  {
   "cell_type": "code",
   "execution_count": 180,
   "id": "f34f91d0",
   "metadata": {},
   "outputs": [
    {
     "name": "stdout",
     "output_type": "stream",
     "text": [
      "Erro Médio Quadrático (MSE): 7797279.559858115\n"
     ]
    }
   ],
   "source": [
    "# Calculando o Erro Médio Quadrático (MSE)\n",
    "mse = mean_squared_error(y_test, previsoes)\n",
    "print(f'Erro Médio Quadrático (MSE): {mse}')"
   ]
  },
  {
   "cell_type": "code",
   "execution_count": 181,
   "id": "f3cc8a87",
   "metadata": {},
   "outputs": [
    {
     "name": "stderr",
     "output_type": "stream",
     "text": [
      "C:\\Users\\Elaine\\Anaconda3\\lib\\site-packages\\sklearn\\base.py:450: UserWarning: X does not have valid feature names, but RandomForestRegressor was fitted with feature names\n",
      "  warnings.warn(\n"
     ]
    }
   ],
   "source": [
    "# Exemplo de previsão para novos dados\n",
    "novos_dados = pd.DataFrame([[10, 20, 15, 200]], columns=features)\n",
    "novos_dados_scaled = scaler.transform(novos_dados)\n",
    "previsao_novos_dados = modelo.predict(novos_dados_scaled)"
   ]
  },
  {
   "cell_type": "code",
   "execution_count": 182,
   "id": "5964c1f4",
   "metadata": {},
   "outputs": [
    {
     "name": "stdout",
     "output_type": "stream",
     "text": [
      "Previsão de Faturamento para Novos Dados: 124.64\n"
     ]
    }
   ],
   "source": [
    "print(f'Previsão de Faturamento para Novos Dados: {previsao_novos_dados[0]}')"
   ]
  },
  {
   "cell_type": "code",
   "execution_count": 184,
   "id": "10806297",
   "metadata": {},
   "outputs": [],
   "source": [
    "# Adicionando as previsões ao DataFrame 'novos_dados'\n",
    "novos_dados['Previsao_Faturamento'] = previsao_novos_dados"
   ]
  },
  {
   "cell_type": "code",
   "execution_count": 121,
   "id": "e4b76fe9",
   "metadata": {},
   "outputs": [],
   "source": [
    "# Exportando as previsões para um arquivo CSV\n",
    "novos_dados.to_csv('previsoes_novos_dados.csv', index=False)"
   ]
  },
  {
   "cell_type": "code",
   "execution_count": 185,
   "id": "113c841b",
   "metadata": {},
   "outputs": [
    {
     "data": {
      "text/html": [
       "<div>\n",
       "<style scoped>\n",
       "    .dataframe tbody tr th:only-of-type {\n",
       "        vertical-align: middle;\n",
       "    }\n",
       "\n",
       "    .dataframe tbody tr th {\n",
       "        vertical-align: top;\n",
       "    }\n",
       "\n",
       "    .dataframe thead th {\n",
       "        text-align: right;\n",
       "    }\n",
       "</style>\n",
       "<table border=\"1\" class=\"dataframe\">\n",
       "  <thead>\n",
       "    <tr style=\"text-align: right;\">\n",
       "      <th></th>\n",
       "      <th>Quantity</th>\n",
       "      <th>Unit Price</th>\n",
       "      <th>Unit Cost</th>\n",
       "      <th>d_Stores.Square Meters</th>\n",
       "      <th>Previsao_Faturamento</th>\n",
       "    </tr>\n",
       "  </thead>\n",
       "  <tbody>\n",
       "    <tr>\n",
       "      <th>0</th>\n",
       "      <td>10</td>\n",
       "      <td>20</td>\n",
       "      <td>15</td>\n",
       "      <td>200</td>\n",
       "      <td>124.64</td>\n",
       "    </tr>\n",
       "  </tbody>\n",
       "</table>\n",
       "</div>"
      ],
      "text/plain": [
       "   Quantity  Unit Price  Unit Cost  d_Stores.Square Meters  \\\n",
       "0        10          20         15                     200   \n",
       "\n",
       "   Previsao_Faturamento  \n",
       "0                124.64  "
      ]
     },
     "execution_count": 185,
     "metadata": {},
     "output_type": "execute_result"
    }
   ],
   "source": [
    "novos_dados.head(10)"
   ]
  },
  {
   "cell_type": "code",
   "execution_count": null,
   "id": "8694daff",
   "metadata": {},
   "outputs": [],
   "source": []
  },
  {
   "cell_type": "code",
   "execution_count": 203,
   "id": "e70d9dcb",
   "metadata": {},
   "outputs": [
    {
     "name": "stdout",
     "output_type": "stream",
     "text": [
      "import pandas as pd\n",
      "from sklearn.model_selection import train_test_split\n",
      "from sklearn.ensemble import RandomForestRegressor\n",
      "from sklearn.metrics import accuracy_score, mean_squared_error\n",
      "from sklearn.metrics import r2_score\n",
      "\n",
      "\n",
      "# Supondo que 'dados.csv' seja o arquivo que contém suas informações\n",
      "dados =  pd.read_csv('dados/stores-datas-regression.csv', sep = ',')\n",
      "\n",
      "features = ['Quantity', 'Unit Price', 'Unit Cost', 'd_Stores.Square Meters']\n",
      "\n",
      "\n",
      "\n",
      "alvo = 'Net Price'\n",
      "\n",
      "X = dados[features]\n",
      "y = dados[alvo]\n",
      "\n",
      "# Dividindo o conjunto de dados em treino e teste\n",
      "X_train, X_test, y_train, y_test = train_test_split(X, y, test_size=0.2, random_state=42)\n",
      "\n",
      "# Criando e treinando o modelo de regressão\n",
      "modelo = RandomForestRegressor(n_estimators=100, random_state=42)\n",
      "modelo.fit(X_train, y_train)\n",
      "\n",
      "# Fazendo previsões no conjunto de teste\n",
      "previsoes = modelo.predict(X_test)\n",
      "\n",
      "# Convertendo para tarefa de classificação (exemplo: categorizando em baixo, médio, alto)\n",
      "categorias_reais = pd.cut(y_test, bins=[y.min(), y.quantile(0.33), y.quantile(0.66), y.max()], labels=['baixo', 'médio', 'alto'])\n",
      "categorias_previstas = pd.cut(previsoes, bins=[y.min(), y.quantile(0.33), y.quantile(0.66), y.max()], labels=['baixo', 'médio', 'alto'])\n",
      "\n",
      "# Calculando a acurácia\n",
      "acuracia = accuracy_score(categorias_reais, categorias_previstas)\n",
      "print(f'Acurácia: {acuracia}')\n",
      "\n",
      "r2 = r2_score(y_test, previsoes)\n",
      "print(f'R²: {r2}')\n",
      "\n",
      "#coeficiente bomde 0.99\n",
      "\n",
      "# Calculando o Erro Médio Quadrático (MSE)\n",
      "mse = mean_squared_error(y_test, previsoes)\n",
      "print(f'Erro Médio Quadrático (MSE): {mse}')\n",
      "\n",
      "# Exemplo de previsão para novos dados\n",
      "novos_dados = pd.DataFrame([[10, 20, 15, 200]], columns=features)\n",
      "novos_dados_scaled = scaler.transform(novos_dados)\n",
      "previsao_novos_dados = modelo.predict(novos_dados_scaled)\n",
      "\n",
      "print(f'Previsão de Faturamento para Novos Dados: {previsao_novos_dados[0]}')\n",
      "\n",
      "# Adicionando as previsões ao DataFrame 'novos_dados'\n",
      "novos_dados['Previsao_Faturamento'] = previsao_novos_dados\n",
      "\n",
      "# Exportando as previsões para um arquivo CSV\n",
      "novos_dados.to_csv('previsoes_novos_dados.csv', index=False)\n",
      "\n",
      "novos_dados.head(10)\n",
      "\n",
      "\n",
      "\n",
      "# Extraia o código de todas as células de código\n",
      "codigo_do_notebook = []\n",
      "for cell in notebook_content.cells:\n",
      "    if cell.cell_type == 'code':\n",
      "        codigo_do_notebook.append(cell.source)\n",
      "\n",
      "# Junte todo o código em uma única string\n",
      "codigo_completo = '\\n\\n'.join(codigo_do_notebook)\n",
      "\n",
      "# Agora, você pode imprimir o código ou salvar em um arquivo\n",
      "print(codigo_completo)\n",
      "\n",
      "#testando com a 'storekey incluida'\n",
      "\n",
      "import pandas as pd\n",
      "from sklearn.model_selection import train_test_split\n",
      "from sklearn.ensemble import RandomForestRegressor\n",
      "from sklearn.metrics import mean_squared_error\n",
      "from sklearn.metrics import r2_score\n",
      "\n",
      "\n",
      "# Supondo que 'dados.csv' seja o arquivo que contém suas informações\n",
      "dados = pd.read_csv('dados/stores-datas-regression.csv', sep=',')\n",
      "\n",
      "features = ['Quantity', 'Unit Price', 'Unit Cost', 'd_Stores.Square Meters']\n",
      "\n",
      "# Adicione 'Storekey' à lista de características\n",
      "features = ['StoreKey']\n",
      "\n",
      "alvo = 'Net Price'\n",
      "X = dados[features]\n",
      "y = dados[alvo]\n",
      "\n",
      "# Dividindo o conjunto de dados em treino e teste\n",
      "X_train, X_test, y_train, y_test = train_test_split(X, y, test_size=0.2, random_state=42)\n",
      "\n",
      "# Criando e treinando o modelo de regressão\n",
      "modelo = RandomForestRegressor(n_estimators=100, random_state=42)\n",
      "modelo.fit(X_train, y_train)\n",
      "\n",
      "# Fazendo previsões no conjunto de teste\n",
      "previsoestest = modelo.predict(X_test)\n",
      "\n",
      "# Convertendo para tarefa de classificação (exemplo: categorizando em baixo, médio, alto)\n",
      "categorias_reais = pd.cut(y_test, bins=[y.min(), y.quantile(0.33), y.quantile(0.66), y.max()], labels=['baixo', 'médio', 'alto'])\n",
      "categorias_previstas = pd.cut(previsoestest, bins=[y.min(), y.quantile(0.33), y.quantile(0.66), y.max()], labels=['baixo', 'médio', 'alto'])\n",
      "\n",
      "# Calculando a acurácia\n",
      "acuracia = accuracy_score(categorias_reais, categorias_previstas)\n",
      "print(f'Acurácia: {acuracia}')\n",
      "\n",
      "# Calculando o Erro Médio Quadrático (MSE)\n",
      "mse = mean_squared_error(y_test, previsoes)\n",
      "print(f'Erro Médio Quadrático (MSE): {mse}')\n",
      "\n",
      "# Exemplo de previsão para novos dados\n",
      "novos_dados = pd.DataFrame({\n",
      "    'Quantity': [10],\n",
      "    'Unit Price': [20],\n",
      "    'Unit Cost': [15],\n",
      "    'd_Stores.Square Meters': [200],\n",
      "    'StoreKey': [1]  # Substitua pelo valor adequado\n",
      "})\n",
      "\n",
      "# Adicione 'Storekey' à lista de características\n",
      "novos_dados['StoreKey'] = novos_dados['StoreKey']\n",
      "\n",
      "# Fazendo previsões para os novos dados\n",
      "previsoes_novos_dados = modelo.predict(novos_dados[features])\n",
      "\n",
      "# Adicionando as previsões ao DataFrame 'novos_dados'\n",
      "novos_dados['Previsao_Faturamento'] = previsoes_novos_dados\n",
      "\n",
      "# Convertendo para tarefa de classificação (exemplo: categorizando em baixo, médio, alto)\n",
      "categorias_reais = pd.cut(y_test, bins=[y.min(), y.quantile(0.33), y.quantile(0.66), y.max()], labels=['baixo', 'médio', 'alto'])\n",
      "categorias_previstas = pd.cut(previsoes_novos_dados, bins=[y.min(), y.quantile(0.33), y.quantile(0.66), y.max()], labels=['baixo', 'médio', 'alto'])\n",
      "\n",
      "r2 = r2_score(y_test, previsoestest)\n",
      "print(f'R²: {r2}')\n",
      "\n",
      "# Calculando o Erro Médio Quadrático (MSE)\n",
      "mse = mean_squared_error(y_test, previsoes_novos_dados)\n",
      "print(f'Erro Médio Quadrático (MSE): {mse}')\n",
      "\n",
      "novos_dados.head(10)\n",
      "\n",
      "\n"
     ]
    }
   ],
   "source": [
    "##exportando o codigo em um campo\n",
    "\n",
    "\n",
    "import nbformat\n",
    "\n",
    "# Substitua 'seu_notebook.ipynb' pelo nome do seu notebook\n",
    "nome_do_notebook = 'previsao-vendas.ipynb'\n",
    "\n",
    "# Carregue o notebook usando a biblioteca nbformat\n",
    "with open(nome_do_notebook, 'r', encoding='utf-8') as notebook_file:\n",
    "    notebook_content = nbformat.read(notebook_file, as_version=4)\n",
    "\n",
    "# Extraia o código de todas as células de código\n",
    "codigo_do_notebook = []\n",
    "for cell in notebook_content.cells:\n",
    "    if cell.cell_type == 'code':\n",
    "        codigo_do_notebook.append(cell.source)\n",
    "\n",
    "# Junte todo o código em uma única string\n",
    "codigo_completo = '\\n\\n'.join(codigo_do_notebook)\n",
    "\n",
    "# Agora, você pode imprimir o código ou salvar em um arquivo\n",
    "print(codigo_completo)"
   ]
  },
  {
   "cell_type": "code",
   "execution_count": null,
   "id": "4eb9311c",
   "metadata": {},
   "outputs": [],
   "source": []
  },
  {
   "cell_type": "code",
   "execution_count": null,
   "id": "592c4593",
   "metadata": {},
   "outputs": [],
   "source": []
  },
  {
   "cell_type": "code",
   "execution_count": 204,
   "id": "cd3628d6",
   "metadata": {},
   "outputs": [
    {
     "name": "stdout",
     "output_type": "stream",
     "text": [
      "Acurácia: 0.9543147208121827\n",
      "R²: 0.9943680653914132\n",
      "Erro Médio Quadrático (MSE): 7395746.345162438\n"
     ]
    },
    {
     "data": {
      "text/html": [
       "<div>\n",
       "<style scoped>\n",
       "    .dataframe tbody tr th:only-of-type {\n",
       "        vertical-align: middle;\n",
       "    }\n",
       "\n",
       "    .dataframe tbody tr th {\n",
       "        vertical-align: top;\n",
       "    }\n",
       "\n",
       "    .dataframe thead th {\n",
       "        text-align: right;\n",
       "    }\n",
       "</style>\n",
       "<table border=\"1\" class=\"dataframe\">\n",
       "  <thead>\n",
       "    <tr style=\"text-align: right;\">\n",
       "      <th></th>\n",
       "      <th>Quantity</th>\n",
       "      <th>Unit Price</th>\n",
       "      <th>Unit Cost</th>\n",
       "      <th>d_Stores.Square Meters</th>\n",
       "      <th>StoreKey</th>\n",
       "      <th>Previsao_Faturamento</th>\n",
       "    </tr>\n",
       "  </thead>\n",
       "  <tbody>\n",
       "    <tr>\n",
       "      <th>0</th>\n",
       "      <td>10</td>\n",
       "      <td>20</td>\n",
       "      <td>15</td>\n",
       "      <td>200</td>\n",
       "      <td>1</td>\n",
       "      <td>129.44</td>\n",
       "    </tr>\n",
       "  </tbody>\n",
       "</table>\n",
       "</div>"
      ],
      "text/plain": [
       "   Quantity  Unit Price  Unit Cost  d_Stores.Square Meters  StoreKey  \\\n",
       "0        10          20         15                     200         1   \n",
       "\n",
       "   Previsao_Faturamento  \n",
       "0                129.44  "
      ]
     },
     "execution_count": 204,
     "metadata": {},
     "output_type": "execute_result"
    }
   ],
   "source": [
    "import pandas as pd\n",
    "from sklearn.model_selection import train_test_split\n",
    "from sklearn.ensemble import RandomForestRegressor\n",
    "from sklearn.metrics import accuracy_score, mean_squared_error\n",
    "from sklearn.metrics import r2_score\n",
    "\n",
    "# Supondo que 'dados.csv' seja o arquivo que contém suas informações\n",
    "dados = pd.read_csv('dados/stores-datas-regression.csv', sep=',')\n",
    "\n",
    "# Lista de características originais\n",
    "features_originais = ['Quantity', 'Unit Price', 'Unit Cost', 'd_Stores.Square Meters']\n",
    "\n",
    "# Adicione 'StoreKey' à lista de características\n",
    "features_novas = features_originais + ['StoreKey']\n",
    "\n",
    "# Variável alvo\n",
    "alvo = 'Net Price'\n",
    "\n",
    "# Seleção de características e variável alvo\n",
    "X = dados[features_novas]\n",
    "y = dados[alvo]\n",
    "\n",
    "# Dividindo o conjunto de dados em treino e teste\n",
    "X_train, X_test, y_train, y_test = train_test_split(X, y, test_size=0.2, random_state=42)\n",
    "\n",
    "# Criando e treinando o modelo de regressão\n",
    "modelo = RandomForestRegressor(n_estimators=100, random_state=42)\n",
    "modelo.fit(X_train, y_train)\n",
    "\n",
    "# Fazendo previsões no conjunto de teste\n",
    "previsoes = modelo.predict(X_test)\n",
    "\n",
    "# Convertendo para tarefa de classificação (exemplo: categorizando em baixo, médio, alto)\n",
    "categorias_reais = pd.cut(y_test, bins=[y.min(), y.quantile(0.33), y.quantile(0.66), y.max()], labels=['baixo', 'médio', 'alto'])\n",
    "categorias_previstas = pd.cut(previsoes, bins=[y.min(), y.quantile(0.33), y.quantile(0.66), y.max()], labels=['baixo', 'médio', 'alto'])\n",
    "\n",
    "# Calculando a acurácia\n",
    "acuracia = accuracy_score(categorias_reais, categorias_previstas)\n",
    "print(f'Acurácia: {acuracia}')\n",
    "\n",
    "# Calculando o R² (coeficiente de determinação)\n",
    "r2 = r2_score(y_test, previsoes)\n",
    "print(f'R²: {r2}')\n",
    "\n",
    "# Calculando o Erro Médio Quadrático (MSE)\n",
    "mse = mean_squared_error(y_test, previsoes)\n",
    "print(f'Erro Médio Quadrático (MSE): {mse}')\n",
    "\n",
    "# Exemplo de previsão para novos dados\n",
    "novos_dados = pd.DataFrame([[10, 20, 15, 200, 1]], columns=features_novas)  # Substitua 1 pelo valor adequado de StoreKey\n",
    "\n",
    "# Fazendo previsões para os novos dados\n",
    "previsoes_novos_dados = modelo.predict(novos_dados[features_novas])\n",
    "\n",
    "# Adicionando as previsões ao DataFrame 'novos_dados'\n",
    "novos_dados['Previsao_Faturamento'] = previsoes_novos_dados\n",
    "\n",
    "# Exportando as previsões para um arquivo CSV\n",
    "novos_dados.to_csv('previsoes_novos_dados_com_storekey.csv', index=False)\n",
    "\n",
    "novos_dados.head(10)\n"
   ]
  },
  {
   "cell_type": "code",
   "execution_count": null,
   "id": "e7e9dfc4",
   "metadata": {},
   "outputs": [],
   "source": []
  },
  {
   "cell_type": "code",
   "execution_count": 207,
   "id": "8a251a58",
   "metadata": {},
   "outputs": [
    {
     "data": {
      "text/html": [
       "<div>\n",
       "<style scoped>\n",
       "    .dataframe tbody tr th:only-of-type {\n",
       "        vertical-align: middle;\n",
       "    }\n",
       "\n",
       "    .dataframe tbody tr th {\n",
       "        vertical-align: top;\n",
       "    }\n",
       "\n",
       "    .dataframe thead th {\n",
       "        text-align: right;\n",
       "    }\n",
       "</style>\n",
       "<table border=\"1\" class=\"dataframe\">\n",
       "  <thead>\n",
       "    <tr style=\"text-align: right;\">\n",
       "      <th></th>\n",
       "      <th>StoreKey</th>\n",
       "      <th>Previsao_Faturamento</th>\n",
       "    </tr>\n",
       "  </thead>\n",
       "  <tbody>\n",
       "    <tr>\n",
       "      <th>0</th>\n",
       "      <td>450</td>\n",
       "      <td>34331.871063</td>\n",
       "    </tr>\n",
       "    <tr>\n",
       "      <th>1</th>\n",
       "      <td>500</td>\n",
       "      <td>34472.451808</td>\n",
       "    </tr>\n",
       "    <tr>\n",
       "      <th>2</th>\n",
       "      <td>630</td>\n",
       "      <td>37085.121122</td>\n",
       "    </tr>\n",
       "    <tr>\n",
       "      <th>3</th>\n",
       "      <td>440</td>\n",
       "      <td>24402.230800</td>\n",
       "    </tr>\n",
       "    <tr>\n",
       "      <th>4</th>\n",
       "      <td>610</td>\n",
       "      <td>16558.389355</td>\n",
       "    </tr>\n",
       "  </tbody>\n",
       "</table>\n",
       "</div>"
      ],
      "text/plain": [
       "   StoreKey  Previsao_Faturamento\n",
       "0       450          34331.871063\n",
       "1       500          34472.451808\n",
       "2       630          37085.121122\n",
       "3       440          24402.230800\n",
       "4       610          16558.389355"
      ]
     },
     "execution_count": 207,
     "metadata": {},
     "output_type": "execute_result"
    }
   ],
   "source": [
    "##EXPORTANDO PARA CADA STOREKEY INFORMADA NO DATAFRAME\n",
    "\n",
    "\n",
    "import pandas as pd\n",
    "from sklearn.model_selection import train_test_split\n",
    "from sklearn.ensemble import RandomForestRegressor\n",
    "\n",
    "# Supondo que 'dados.csv' seja o arquivo que contém suas informações\n",
    "dados = pd.read_csv('dados/stores-datas-regression.csv', sep=',')\n",
    "\n",
    "# Lista de características originais\n",
    "features_originais = ['Quantity', 'Unit Price', 'Unit Cost', 'd_Stores.Square Meters']\n",
    "\n",
    "# Adicione 'StoreKey' à lista de características\n",
    "features_novas = features_originais + ['StoreKey']\n",
    "\n",
    "# Variável alvo\n",
    "alvo = 'Net Price'\n",
    "\n",
    "# Resultados das previsões\n",
    "resultados_previsao = []\n",
    "\n",
    "# Itera sobre os valores únicos de 'StoreKey'\n",
    "for store_key in dados['StoreKey'].unique():\n",
    "    # Filtra os dados para a StoreKey atual\n",
    "    dados_loja = dados[dados['StoreKey'] == store_key]\n",
    "    \n",
    "    # Seleção de características e variável alvo\n",
    "    X = dados_loja[features_novas]\n",
    "    y = dados_loja[alvo]\n",
    "    \n",
    "    # Dividindo o conjunto de dados em treino e teste\n",
    "    X_train, X_test, y_train, y_test = train_test_split(X, y, test_size=0.2, random_state=42)\n",
    "    \n",
    "    # Criando e treinando o modelo de regressão\n",
    "    modelo = RandomForestRegressor(n_estimators=100, random_state=42)\n",
    "    modelo.fit(X_train, y_train)\n",
    "    \n",
    "    # Fazendo previsões no conjunto de teste\n",
    "    previsoes = modelo.predict(X_test)\n",
    "    \n",
    "    # Armazenando resultados\n",
    "    resultados_previsao.append({'StoreKey': store_key, 'Previsao_Faturamento': previsoes.mean()})\n",
    "\n",
    "# Criando um DataFrame com os resultados\n",
    "resultados_df = pd.DataFrame(resultados_previsao)\n",
    "\n",
    "# Exportando os resultados para um arquivo CSV\n",
    "resultados_df.to_csv('dados/resultados_previsao_por_storekey.csv', index=False)\n",
    "\n",
    "resultados_df.head()\n"
   ]
  },
  {
   "cell_type": "code",
   "execution_count": 206,
   "id": "078f4f50",
   "metadata": {},
   "outputs": [
    {
     "name": "stdout",
     "output_type": "stream",
     "text": [
      "R²: 0.49954083172284225\n"
     ]
    }
   ],
   "source": [
    "# Calculando o R² (coeficiente de determinação)\n",
    "r2 = r2_score(y_test, previsoes)\n",
    "print(f'R²: {r2}')"
   ]
  },
  {
   "cell_type": "code",
   "execution_count": null,
   "id": "2c1aa2ee",
   "metadata": {},
   "outputs": [],
   "source": []
  },
  {
   "cell_type": "code",
   "execution_count": 214,
   "id": "ef853272",
   "metadata": {},
   "outputs": [
    {
     "name": "stdout",
     "output_type": "stream",
     "text": [
      "Datas nulas após a conversão: 0\n"
     ]
    },
    {
     "data": {
      "text/html": [
       "<div>\n",
       "<style scoped>\n",
       "    .dataframe tbody tr th:only-of-type {\n",
       "        vertical-align: middle;\n",
       "    }\n",
       "\n",
       "    .dataframe tbody tr th {\n",
       "        vertical-align: top;\n",
       "    }\n",
       "\n",
       "    .dataframe thead th {\n",
       "        text-align: right;\n",
       "    }\n",
       "</style>\n",
       "<table border=\"1\" class=\"dataframe\">\n",
       "  <thead>\n",
       "    <tr style=\"text-align: right;\">\n",
       "      <th></th>\n",
       "      <th>StoreKey</th>\n",
       "      <th>Previsao_Faturamento</th>\n",
       "    </tr>\n",
       "  </thead>\n",
       "  <tbody>\n",
       "    <tr>\n",
       "      <th>0</th>\n",
       "      <td>450</td>\n",
       "      <td>34560.061034</td>\n",
       "    </tr>\n",
       "    <tr>\n",
       "      <th>1</th>\n",
       "      <td>500</td>\n",
       "      <td>34264.236900</td>\n",
       "    </tr>\n",
       "    <tr>\n",
       "      <th>2</th>\n",
       "      <td>630</td>\n",
       "      <td>36658.483000</td>\n",
       "    </tr>\n",
       "    <tr>\n",
       "      <th>3</th>\n",
       "      <td>440</td>\n",
       "      <td>24509.949200</td>\n",
       "    </tr>\n",
       "    <tr>\n",
       "      <th>4</th>\n",
       "      <td>610</td>\n",
       "      <td>16542.115806</td>\n",
       "    </tr>\n",
       "  </tbody>\n",
       "</table>\n",
       "</div>"
      ],
      "text/plain": [
       "   StoreKey  Previsao_Faturamento\n",
       "0       450          34560.061034\n",
       "1       500          34264.236900\n",
       "2       630          36658.483000\n",
       "3       440          24509.949200\n",
       "4       610          16542.115806"
      ]
     },
     "execution_count": 214,
     "metadata": {},
     "output_type": "execute_result"
    }
   ],
   "source": [
    "import pandas as pd\n",
    "from sklearn.model_selection import train_test_split\n",
    "from sklearn.ensemble import RandomForestRegressor\n",
    "from sklearn.metrics import mean_squared_error, r2_score\n",
    "from datetime import datetime\n",
    "\n",
    "# Supondo que 'dados.csv' seja o arquivo que contém suas informações\n",
    "dados = pd.read_csv('dados/stores-datas-regression.csv', sep=',')\n",
    "\n",
    "# Adicionando um campo de data (substitua 'Order Date' pelo nome real da sua coluna de data)\n",
    "dados['Order Date'] = pd.to_datetime(dados['Order Date'], format='%d/%m/%Y', errors='coerce')\n",
    "\n",
    "# Verificando se há datas nulas após a conversão\n",
    "print(f\"Datas nulas após a conversão: {dados['Order Date'].isnull().sum()}\")\n",
    "\n",
    "# Removendo linhas com datas nulas (se desejar)\n",
    "dados = dados.dropna(subset=['Order Date'])\n",
    "\n",
    "# Adicionando um campo de dias desde a ordem\n",
    "dados['Days_since_order'] = (dados['Order Date'] - dados['Order Date'].min()).dt.days\n",
    "\n",
    "# Lista de características originais\n",
    "features_originais = ['Quantity', 'Unit Price', 'Unit Cost', 'd_Stores.Square Meters', 'Days_since_order']\n",
    "\n",
    "# Adicione 'StoreKey' à lista de características\n",
    "features_novas = features_originais + ['StoreKey']\n",
    "\n",
    "# Variável alvo\n",
    "alvo = 'Net Price'\n",
    "\n",
    "# Resultados das previsões\n",
    "resultados_previsao = []\n",
    "\n",
    "# Itera sobre os valores únicos de 'StoreKey'\n",
    "for store_key in dados['StoreKey'].unique():\n",
    "    # Filtra os dados para a StoreKey atual\n",
    "    dados_loja = dados[dados['StoreKey'] == store_key]\n",
    "    \n",
    "    # Seleção de características e variável alvo\n",
    "    X = dados_loja[features_novas]\n",
    "    y = dados_loja[alvo]\n",
    "    \n",
    "    # Dividindo o conjunto de dados em treino e teste\n",
    "    X_train, X_test, y_train, y_test = train_test_split(X, y, test_size=0.2, random_state=42)\n",
    "    \n",
    "    # Criando e treinando o modelo de regressão\n",
    "    modelo = RandomForestRegressor(n_estimators=100, random_state=42)\n",
    "    modelo.fit(X_train, y_train)\n",
    "    \n",
    "    # Fazendo previsões no conjunto de teste\n",
    "    previsoes = modelo.predict(X_test)\n",
    "    \n",
    "    # Armazenando resultados\n",
    "    resultados_previsao.append({'StoreKey': store_key, 'Previsao_Faturamento': previsoes.mean()})\n",
    "\n",
    "# Criando um DataFrame com os resultados\n",
    "resultados_df = pd.DataFrame(resultados_previsao)\n",
    "\n",
    "# Exportando os resultados para um arquivo CSV\n",
    "resultados_df.to_csv('resultados_previsao_com_data_por_storekey.csv', index=False)\n",
    "\n",
    "resultados_df.head()\n",
    "\n"
   ]
  },
  {
   "cell_type": "code",
   "execution_count": 215,
   "id": "f5e855ac",
   "metadata": {},
   "outputs": [
    {
     "name": "stdout",
     "output_type": "stream",
     "text": [
      "R²: 0.4955383605573148\n"
     ]
    }
   ],
   "source": [
    "# Calculando o R² (coeficiente de determinação)\n",
    "r2 = r2_score(y_test, previsoes)\n",
    "print(f'R²: {r2}')"
   ]
  },
  {
   "cell_type": "code",
   "execution_count": null,
   "id": "71ca007d",
   "metadata": {},
   "outputs": [],
   "source": []
  },
  {
   "cell_type": "code",
   "execution_count": null,
   "id": "e6e5751b",
   "metadata": {},
   "outputs": [],
   "source": []
  },
  {
   "cell_type": "code",
   "execution_count": 218,
   "id": "91f1d49d",
   "metadata": {},
   "outputs": [
    {
     "name": "stdout",
     "output_type": "stream",
     "text": [
      "Datas nulas após a conversão: 0\n"
     ]
    },
    {
     "data": {
      "text/html": [
       "<div>\n",
       "<style scoped>\n",
       "    .dataframe tbody tr th:only-of-type {\n",
       "        vertical-align: middle;\n",
       "    }\n",
       "\n",
       "    .dataframe tbody tr th {\n",
       "        vertical-align: top;\n",
       "    }\n",
       "\n",
       "    .dataframe thead th {\n",
       "        text-align: right;\n",
       "    }\n",
       "</style>\n",
       "<table border=\"1\" class=\"dataframe\">\n",
       "  <thead>\n",
       "    <tr style=\"text-align: right;\">\n",
       "      <th></th>\n",
       "      <th>StoreKey</th>\n",
       "      <th>Order Date</th>\n",
       "      <th>Previsao_Faturamento</th>\n",
       "    </tr>\n",
       "  </thead>\n",
       "  <tbody>\n",
       "    <tr>\n",
       "      <th>0</th>\n",
       "      <td>450</td>\n",
       "      <td>2017-05-26</td>\n",
       "      <td>72002.796667</td>\n",
       "    </tr>\n",
       "    <tr>\n",
       "      <th>1</th>\n",
       "      <td>450</td>\n",
       "      <td>2017-06-30</td>\n",
       "      <td>4016.503333</td>\n",
       "    </tr>\n",
       "    <tr>\n",
       "      <th>2</th>\n",
       "      <td>450</td>\n",
       "      <td>2017-07-05</td>\n",
       "      <td>2567.366667</td>\n",
       "    </tr>\n",
       "    <tr>\n",
       "      <th>3</th>\n",
       "      <td>450</td>\n",
       "      <td>2017-09-06</td>\n",
       "      <td>25895.350000</td>\n",
       "    </tr>\n",
       "    <tr>\n",
       "      <th>4</th>\n",
       "      <td>450</td>\n",
       "      <td>2017-09-29</td>\n",
       "      <td>43050.340000</td>\n",
       "    </tr>\n",
       "  </tbody>\n",
       "</table>\n",
       "</div>"
      ],
      "text/plain": [
       "   StoreKey Order Date  Previsao_Faturamento\n",
       "0       450 2017-05-26          72002.796667\n",
       "1       450 2017-06-30           4016.503333\n",
       "2       450 2017-07-05           2567.366667\n",
       "3       450 2017-09-06          25895.350000\n",
       "4       450 2017-09-29          43050.340000"
      ]
     },
     "execution_count": 218,
     "metadata": {},
     "output_type": "execute_result"
    }
   ],
   "source": [
    "import pandas as pd\n",
    "from sklearn.ensemble import RandomForestRegressor\n",
    "from datetime import datetime\n",
    "\n",
    "# Supondo que 'dados.csv' seja o arquivo que contém suas informações\n",
    "dados = pd.read_csv('dados/stores-datas-regression.csv', sep=',')\n",
    "\n",
    "# Adicionando um campo de data (substitua 'Order Date' pelo nome real da sua coluna de data)\n",
    "dados['Order Date'] = pd.to_datetime(dados['Order Date'], format='%d/%m/%Y', errors='coerce')\n",
    "\n",
    "# Verificando se há datas nulas após a conversão\n",
    "print(f\"Datas nulas após a conversão: {dados['Order Date'].isnull().sum()}\")\n",
    "\n",
    "# Removendo linhas com datas nulas (se desejar)\n",
    "dados = dados.dropna(subset=['Order Date'])\n",
    "\n",
    "# Adicionando um campo de dias desde a ordem\n",
    "dados['Days_since_order'] = (dados['Order Date'] - dados['Order Date'].min()).dt.days\n",
    "\n",
    "# Lista de características originais\n",
    "features_originais = ['Quantity', 'Unit Price', 'Unit Cost', 'd_Stores.Square Meters', 'Days_since_order']\n",
    "\n",
    "# Adicione 'StoreKey' à lista de características\n",
    "features_novas = features_originais + ['StoreKey']\n",
    "\n",
    "# Variável alvo\n",
    "alvo = 'Net Price'\n",
    "\n",
    "# Resultados das previsões\n",
    "resultados_previsao = []\n",
    "\n",
    "# Itera sobre os valores únicos de 'StoreKey' e 'Order Date'\n",
    "for store_key in dados['StoreKey'].unique():\n",
    "    for order_date in dados['Order Date'].unique():\n",
    "        # Filtra os dados para a StoreKey e Order Date atuais\n",
    "        dados_loja_data = dados[(dados['StoreKey'] == store_key) & (dados['Order Date'] == order_date)]\n",
    "        \n",
    "        # Se não houver dados para a combinação StoreKey e Order Date, pule para a próxima iteração\n",
    "        if dados_loja_data.shape[0] < 2:  # Ajuste o número mínimo de amostras conforme necessário\n",
    "            continue\n",
    "    \n",
    "        # Seleção de características e variável alvo\n",
    "        X = dados_loja_data[features_novas]\n",
    "        y = dados_loja_data[alvo]\n",
    "        \n",
    "        # Criando e treinando o modelo de regressão\n",
    "        modelo = RandomForestRegressor(n_estimators=100, random_state=42)\n",
    "        modelo.fit(X, y)\n",
    "        \n",
    "        # Fazendo previsões para toda a amostra\n",
    "        previsoes = modelo.predict(X)\n",
    "        \n",
    "        # Armazenando resultados\n",
    "        resultados_previsao.append({'StoreKey': store_key, 'Order Date': order_date, 'Previsao_Faturamento': previsoes.mean()})\n",
    "\n",
    "# Criando um DataFrame com os resultados\n",
    "resultados_df = pd.DataFrame(resultados_previsao)\n",
    "\n",
    "# Exportando os resultados para um arquivo CSV\n",
    "resultados_df.to_csv('resultados_previsao_com_data_e_storekey.csv', index=False)\n",
    "\n",
    "resultados_df.head()\n"
   ]
  }
 ],
 "metadata": {
  "kernelspec": {
   "display_name": "Python 3 (ipykernel)",
   "language": "python",
   "name": "python3"
  },
  "language_info": {
   "codemirror_mode": {
    "name": "ipython",
    "version": 3
   },
   "file_extension": ".py",
   "mimetype": "text/x-python",
   "name": "python",
   "nbconvert_exporter": "python",
   "pygments_lexer": "ipython3",
   "version": "3.9.13"
  }
 },
 "nbformat": 4,
 "nbformat_minor": 5
}
